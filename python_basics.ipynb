{
 "cells": [
  {
   "cell_type": "code",
   "execution_count": null,
   "id": "3594ecf1-479c-4e43-9f9b-164d89229def",
   "metadata": {},
   "outputs": [],
   "source": []
  }
 ],
 "metadata": {
  "kernelspec": {
   "display_name": "",
   "name": ""
  },
  "language_info": {
   "name": ""
  }
 },
 "nbformat": 4,
 "nbformat_minor": 5
}
